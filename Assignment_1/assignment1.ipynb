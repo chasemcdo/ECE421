{
  "nbformat": 4,
  "nbformat_minor": 0,
  "metadata": {
    "colab": {
      "name": "assignment1.ipynb",
      "provenance": [],
      "collapsed_sections": [],
      "authorship_tag": "ABX9TyP6IqDSUciMJjc9CPbuE4CL",
      "include_colab_link": true
    },
    "kernelspec": {
      "name": "python3",
      "display_name": "Python 3"
    },
    "language_info": {
      "name": "python"
    }
  },
  "cells": [
    {
      "cell_type": "markdown",
      "metadata": {
        "id": "view-in-github",
        "colab_type": "text"
      },
      "source": [
        "<a href=\"https://colab.research.google.com/github/chasemcdo/ECE421/blob/main/Assignment_1/assignment1.ipynb\" target=\"_parent\"><img src=\"https://colab.research.google.com/assets/colab-badge.svg\" alt=\"Open In Colab\"/></a>"
      ]
    },
    {
      "cell_type": "code",
      "metadata": {
        "id": "dEuZ9UyIs5bL"
      },
      "source": [
        "from sklearn import datasets\n",
        "import matplotlib.pyplot as plt\n",
        "import numpy as np\n",
        "dataset = datasets.load_breast_cancer()"
      ],
      "execution_count": null,
      "outputs": []
    },
    {
      "cell_type": "code",
      "metadata": {
        "id": "p-XagouSwmTt"
      },
      "source": [
        "# Question 1\n",
        "def k_means(data, k):\n",
        "  # Initial Random Centroid Assignments\n",
        "  # Pick k training Points\n",
        "  centroids = []\n",
        "  for i in range(k):\n",
        "    randint = np.random.randint(0,len(data)+1)\n",
        "    centroids.append(data[randint])\n",
        "    # centroids.append(data[i])\n",
        "\n",
        "  training = True\n",
        "  while training:\n",
        "    ## Assign Training Points\n",
        "\n",
        "    # for i in centroids:\n",
        "    #   print(i)\n",
        "    # print('\\n\\n')\n",
        "\n",
        "    centroid_assignments = []\n",
        "    for training_index in range(len(data)):\n",
        "      first_run = True\n",
        "      for centroid_index in range(len(centroids)):\n",
        "        if first_run:\n",
        "          first_run = False\n",
        "          min_dist = euclidean_dist(centroids[centroid_index], data[training_index])\n",
        "          closest_centroid_index = centroid_index\n",
        "          # print(f'First Run\\nTraining Index: {training_index}\\nCCI: {centroid_index}\\nmin_dist: {min_dist}')\n",
        "        else:\n",
        "          # print(len(centroids[centroid_index]), len(data[training_index]))\n",
        "          dist = euclidean_dist(centroids[centroid_index], data[training_index])\n",
        "          # print(f'Else Run\\nTraining Index: {training_index}\\nCCI: {centroid_index}\\ndist: {dist}')\n",
        "          if dist < min_dist:\n",
        "            min_dist = dist\n",
        "            closest_centroid_index = centroid_index\n",
        "      centroid_assignments.append(closest_centroid_index)\n",
        "\n",
        "    ## Reassign Centroids Using Average of Assigned Training Points\n",
        "\n",
        "    # Centroid Assignments is an array of 569 (since that is the amount in the training set) which indicates the assigned centroid for each vector.\n",
        "    # listOfSummations will contain the new locations for each centroid\n",
        "    listOfSummations = []\n",
        "    numOfVectors = []\n",
        "    for i in range(k):\n",
        "      listOfSummations.append([0]*len(data[0]))\n",
        "      numOfVectors.append(0)\n",
        "    for vector_index in range(len(centroid_assignments)):\n",
        "      # Get the assigned centroid for the current vector and indicate that another vector was added in numOfVectors list\n",
        "      assigned_centroid = centroid_assignments[vector_index]\n",
        "      numOfVectors[assigned_centroid] += 1\n",
        "\n",
        "      # Loop through all dimensions of current vector and add each value to the corresponding dimension in listOfSummations[assigned_centroid]\n",
        "      for dim_index in range(len(data[vector_index])):\n",
        "        listOfSummations[assigned_centroid][dim_index] += data[vector_index][dim_index]\n",
        "\n",
        "    # Loop through all new centroid summations and divide by the number of vectors to get the averages\n",
        "    # print(centroid_assignments)\n",
        "    for i in range(len(listOfSummations)):\n",
        "      for j in range(len(listOfSummations[i])):\n",
        "        # print(numOfVectors)\n",
        "        listOfSummations[i][j] = listOfSummations[i][j]/numOfVectors[i]\n",
        "    \n",
        "    matchCount = 0\n",
        "    for i in range(len(listOfSummations)):\n",
        "      # print(f'\\nArrays:\\n{listOfSummations[i]}\\n\\n{centroids[i]}')\n",
        "      # print(f'\\nArray Lengths:\\n{len(listOfSummations[i])}\\n\\n{len(centroids[i])}')\n",
        "\n",
        "      # print(f'Types:\\n{type(listOfSummations[i])}\\n{type(centroids[i])}')\n",
        "\n",
        "      if (listOfSummations[i] == list(centroids[i])):\n",
        "        matchCount += 1\n",
        "\n",
        "    if matchCount >= len(listOfSummations):\n",
        "      training = False\n",
        "    \n",
        "    if training:\n",
        "      # Moving Centroid Data without linking\n",
        "      #old_centroids = []\n",
        "      #for centroid in centroids:\n",
        "      #  old_centroids.append(list(centroid))\n",
        "      # print(len(listOfSummations))\n",
        "      # for i in listOfSummations:\n",
        "      #   print(len(i))\n",
        "      centroids = []\n",
        "      for new_centroid in listOfSummations:\n",
        "        vector = []\n",
        "        for new_centroid_element in new_centroid:\n",
        "          vector.append(new_centroid_element)\n",
        "        centroids.append(vector)\n",
        "\n",
        "  # print('Found Final Solution')\n",
        "  return centroids, centroid_assignments\n",
        "\n",
        "\n",
        "def euclidean_dist(v, u):\n",
        "  # Takes in two vectors and computes the euclidean distance between them\n",
        "  if len(v) != len(u):\n",
        "    print(\"Given vectors are of different dimensionality\")\n",
        "    return None\n",
        "\n",
        "  euc_dist = 0\n",
        "  for i in range(len(v)):\n",
        "    euc_dist += np.power(v[i]-u[i],2)\n",
        "  euc_dist = np.power(euc_dist,1/2)\n",
        "  return euc_dist\n",
        "\n",
        "# # Question 3 distortion function\n",
        "# def get_distortion(data, centroids, centroid_assignments):\n",
        "#   # Distortion is defined as the sum of the square euclidean distance of all vectors\n",
        "\n",
        "\n",
        "if __name__ == \"__main__\":\n",
        "#   get_distortion(dataset.data, )\n",
        "    k = 3\n",
        "#   for k in range(2,8):\n",
        "#     print(f'\\nFinal Solution for k={k}')\n",
        "    centroids, centroid_assignments = k_means(dataset.data, k)\n",
        "#     print('Centroids:')\n",
        "#     for cent in centroids:\n",
        "#       print(cent)\n",
        "#     print(f'Centroid Assignments:\\n{centroid_assignments}')\n",
        "  "
      ],
      "execution_count": null,
      "outputs": []
    },
    {
      "cell_type": "code",
      "metadata": {
        "id": "wng3gfhANQ2k"
      },
      "source": [
        "# Question 3 distortion function\n",
        "def get_distortion(data, centroids, centroid_assignments):\n",
        "  # Distortion is defined as the sum of the square euclidean distance of all vectors\n",
        "  distortionSum = 0\n",
        "  for vector_index in range(len(data)):\n",
        "    distortionSum += np.power(euclidean_dist(data[vector_index], centroids[centroid_assignments[vector_index]]),2)\n",
        "  return distortionSum\n",
        "\n",
        "if __name__ == \"__main__\":\n",
        "  k_values = []\n",
        "  dist_list = []\n",
        "  for k in range(2,8):\n",
        "    centroids, centroid_assignments = k_means(dataset.data, k)\n",
        "    dist_sum = get_distortion(dataset.data, centroids, centroid_assignments)\n",
        "    k_values.append(k)\n",
        "    dist_list.append(dist_sum)"
      ],
      "execution_count": null,
      "outputs": []
    },
    {
      "cell_type": "code",
      "metadata": {
        "colab": {
          "base_uri": "https://localhost:8080/",
          "height": 312
        },
        "id": "MmjegeGtVhAi",
        "outputId": "a453a002-1ae9-4ecc-898a-75884810dca0"
      },
      "source": [
        "# Plotting for Question 3\n",
        "fig = plt.figure()\n",
        "plt.plot(k_values, dist_list)\n",
        "plt.xlabel('k-values')\n",
        "plt.ylabel('Distortion (J)')\n",
        "plt.title('Distortion vs k-values - Breast Cancer Clustering')"
      ],
      "execution_count": null,
      "outputs": [
        {
          "output_type": "execute_result",
          "data": {
            "text/plain": [
              "Text(0.5, 1.0, 'Distortion vs k-values - Breast Cancer Clustering')"
            ]
          },
          "metadata": {},
          "execution_count": 8
        },
        {
          "output_type": "display_data",
          "data": {
            "image/png": "[encoded data removed]",
            "text/plain": [
              "<Figure size 432x288 with 1 Axes>"
            ]
          },
          "metadata": {
            "needs_background": "light"
          }
        }
      ]
    }
  ]
}